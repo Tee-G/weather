{
 "cells": [
  {
   "cell_type": "code",
   "execution_count": 81,
   "id": "21ad3302",
   "metadata": {},
   "outputs": [],
   "source": [
    "import numpy as np\n",
    "import matplotlib.pyplot as plt\n",
    "import pandas as pd\n",
    "from neuralprophet import NeuralProphet"
   ]
  },
  {
   "cell_type": "code",
   "execution_count": 82,
   "id": "98accf88",
   "metadata": {},
   "outputs": [
    {
     "name": "stdout",
     "output_type": "stream",
     "text": [
      "         Date  TempHighF  TempAvgF  TempLowF DewPointHighF DewPointAvgF  \\\n",
      "0  2013-12-21         74        60        45            67           49   \n",
      "1  2013-12-22         56        48        39            43           36   \n",
      "2  2013-12-23         58        45        32            31           27   \n",
      "3  2013-12-24         61        46        31            36           28   \n",
      "4  2013-12-25         58        50        41            44           40   \n",
      "\n",
      "  DewPointLowF HumidityHighPercent HumidityAvgPercent HumidityLowPercent  ...  \\\n",
      "0           43                  93                 75                 57  ...   \n",
      "1           28                  93                 68                 43  ...   \n",
      "2           23                  76                 52                 27  ...   \n",
      "3           21                  89                 56                 22  ...   \n",
      "4           36                  86                 71                 56  ...   \n",
      "\n",
      "  SeaLevelPressureAvgInches SeaLevelPressureLowInches VisibilityHighMiles  \\\n",
      "0                     29.68                     29.59                  10   \n",
      "1                     30.13                     29.87                  10   \n",
      "2                     30.49                     30.41                  10   \n",
      "3                     30.45                      30.3                  10   \n",
      "4                     30.33                     30.27                  10   \n",
      "\n",
      "  VisibilityAvgMiles VisibilityLowMiles WindHighMPH WindAvgMPH WindGustMPH  \\\n",
      "0                  7                  2          20          4          31   \n",
      "1                 10                  5          16          6          25   \n",
      "2                 10                 10           8          3          12   \n",
      "3                 10                  7          12          4          20   \n",
      "4                 10                  7          10          2          16   \n",
      "\n",
      "  PrecipitationSumInches               Events  \n",
      "0                   0.46  Rain , Thunderstorm  \n",
      "1                      0                       \n",
      "2                      0                       \n",
      "3                      0                       \n",
      "4                      T                       \n",
      "\n",
      "[5 rows x 21 columns]\n"
     ]
    }
   ],
   "source": [
    "f=pd.read_csv(r\"C:\\Users\\DELL\\Documents\\austin_weather.csv\")\n",
    "s=f.replace(np.nan,0)\n",
    "print(s.head())"
   ]
  },
  {
   "cell_type": "code",
   "execution_count": 83,
   "id": "8bf67b63",
   "metadata": {},
   "outputs": [
    {
     "data": {
      "text/plain": [
       "array(['2013-12-21', '2013-12-22', '2013-12-23', ..., '2017-07-29',\n",
       "       '2017-07-30', '2017-07-31'], dtype=object)"
      ]
     },
     "execution_count": 83,
     "metadata": {},
     "output_type": "execute_result"
    }
   ],
   "source": [
    "s.Date.unique()"
   ]
  },
  {
   "cell_type": "code",
   "execution_count": 84,
   "id": "ee30d7cc",
   "metadata": {},
   "outputs": [
    {
     "data": {
      "text/plain": [
       "Index(['Date', 'TempHighF', 'TempAvgF', 'TempLowF', 'DewPointHighF',\n",
       "       'DewPointAvgF', 'DewPointLowF', 'HumidityHighPercent',\n",
       "       'HumidityAvgPercent', 'HumidityLowPercent',\n",
       "       'SeaLevelPressureHighInches', 'SeaLevelPressureAvgInches',\n",
       "       'SeaLevelPressureLowInches', 'VisibilityHighMiles',\n",
       "       'VisibilityAvgMiles', 'VisibilityLowMiles', 'WindHighMPH', 'WindAvgMPH',\n",
       "       'WindGustMPH', 'PrecipitationSumInches', 'Events'],\n",
       "      dtype='object')"
      ]
     },
     "execution_count": 84,
     "metadata": {},
     "output_type": "execute_result"
    }
   ],
   "source": [
    "s.columns"
   ]
  },
  {
   "cell_type": "code",
   "execution_count": 85,
   "id": "e0d1f23d",
   "metadata": {},
   "outputs": [
    {
     "name": "stdout",
     "output_type": "stream",
     "text": [
      "Date                          datetime64[ns]\n",
      "TempHighF                              int64\n",
      "TempAvgF                               int64\n",
      "TempLowF                               int64\n",
      "DewPointHighF                         object\n",
      "DewPointAvgF                          object\n",
      "DewPointLowF                          object\n",
      "HumidityHighPercent                   object\n",
      "HumidityAvgPercent                    object\n",
      "HumidityLowPercent                    object\n",
      "SeaLevelPressureHighInches            object\n",
      "SeaLevelPressureAvgInches             object\n",
      "SeaLevelPressureLowInches             object\n",
      "VisibilityHighMiles                   object\n",
      "VisibilityAvgMiles                    object\n",
      "VisibilityLowMiles                    object\n",
      "WindHighMPH                           object\n",
      "WindAvgMPH                            object\n",
      "WindGustMPH                           object\n",
      "PrecipitationSumInches                object\n",
      "Events                                object\n",
      "dtype: object\n"
     ]
    }
   ],
   "source": [
    "s['Date']=pd.to_datetime(s['Date'])\n",
    "print(s.dtypes)"
   ]
  },
  {
   "cell_type": "code",
   "execution_count": 86,
   "id": "3a3c9d85",
   "metadata": {},
   "outputs": [
    {
     "data": {
      "image/png": "[encoded data removed]",
      "text/plain": [
       "<Figure size 432x288 with 1 Axes>"
      ]
     },
     "metadata": {
      "needs_background": "light"
     },
     "output_type": "display_data"
    }
   ],
   "source": [
    "plt.plot(s['Date'], s['TempAvgF'])\n",
    "plt.xticks(rotation=45)\n",
    "plt.show()"
   ]
  },
  {
   "cell_type": "code",
   "execution_count": null,
   "id": "1265568f",
   "metadata": {},
   "outputs": [],
   "source": []
  },
  {
   "cell_type": "markdown",
   "id": "17b0930d",
   "metadata": {},
   "source": [
    "THIS FIRST BATCH WOULD FORECAST THE TEMPERATURE OF THE NEXT 1500 DAYS USING THE NEURAL PROPHET MODEL"
   ]
  },
  {
   "cell_type": "code",
   "execution_count": null,
   "id": "b7f2560f",
   "metadata": {},
   "outputs": [],
   "source": []
  },
  {
   "cell_type": "code",
   "execution_count": 87,
   "id": "ad9ac335",
   "metadata": {},
   "outputs": [
    {
     "name": "stdout",
     "output_type": "stream",
     "text": [
      "           Date  TempAvgF\n",
      "0    2013-12-21        60\n",
      "1    2013-12-22        48\n",
      "2    2013-12-23        45\n",
      "3    2013-12-24        46\n",
      "4    2013-12-25        50\n",
      "...         ...       ...\n",
      "1314 2017-07-27        89\n",
      "1315 2017-07-28        91\n",
      "1316 2017-07-29        92\n",
      "1317 2017-07-30        93\n",
      "1318 2017-07-31        88\n",
      "\n",
      "[1319 rows x 2 columns]\n"
     ]
    }
   ],
   "source": [
    "t=s[['Date', 'TempAvgF']]\n",
    "print(t)"
   ]
  },
  {
   "cell_type": "code",
   "execution_count": 88,
   "id": "1acfc15b",
   "metadata": {},
   "outputs": [],
   "source": [
    "\n",
    "import tensorflow as tf\n",
    "from tensorflow.keras.models import Sequential\n",
    "from tensorflow.keras.layers import Dense\n",
    "from tensorflow.keras.layers import LSTM\n",
    "from sklearn.preprocessing import MinMaxScaler\n",
    "from sklearn.metrics import mean_squared_error"
   ]
  },
  {
   "cell_type": "code",
   "execution_count": 89,
   "id": "c5df1d67",
   "metadata": {},
   "outputs": [],
   "source": [
    "t.columns=['ds', 'y']"
   ]
  },
  {
   "cell_type": "code",
   "execution_count": 99,
   "id": "36d9dfc1",
   "metadata": {},
   "outputs": [
    {
     "name": "stderr",
     "output_type": "stream",
     "text": [
      "INFO - (NP.df_utils._infer_frequency) - Major frequency D corresponds to 99.924% of the data.\n",
      "INFO - (NP.df_utils._infer_frequency) - Defined frequency is equal to major frequency - D\n",
      "INFO - (NP.config.init_data_params) - Setting normalization to global as only one dataframe provided for training.\n",
      "INFO - (NP.utils.set_auto_seasonalities) - Disabling daily seasonality. Run NeuralProphet with daily_seasonality=True to override this.\n",
      "INFO - (NP.config.set_auto_batch_epoch) - Auto-set batch_size to 32\n",
      "INFO - (NP.config.set_auto_batch_epoch) - Auto-set epochs to 178\n"
     ]
    },
    {
     "data": {
      "application/vnd.jupyter.widget-view+json": {
       "model_id": "7b30a361842a46b99e8f405a9ddd3855",
       "version_major": 2,
       "version_minor": 0
      },
      "text/plain": [
       "  0%|          | 0/128 [00:00<?, ?it/s]"
      ]
     },
     "metadata": {},
     "output_type": "display_data"
    },
    {
     "name": "stderr",
     "output_type": "stream",
     "text": [
      "INFO - (NP.utils_torch.lr_range_test) - lr-range-test results: steep: 8.97E-02, min: 2.34E+00\n"
     ]
    },
    {
     "data": {
      "application/vnd.jupyter.widget-view+json": {
       "model_id": "f00b154f500748e3ab655bdff7dcc688",
       "version_major": 2,
       "version_minor": 0
      },
      "text/plain": [
       "  0%|          | 0/128 [00:00<?, ?it/s]"
      ]
     },
     "metadata": {},
     "output_type": "display_data"
    },
    {
     "name": "stderr",
     "output_type": "stream",
     "text": [
      "INFO - (NP.utils_torch.lr_range_test) - lr-range-test results: steep: 8.97E-02, min: 8.81E-01\n",
      "INFO - (NP.forecaster._init_train_loader) - lr-range-test selected learning rate: 9.30E-02\n",
      "Epoch[178/178]: 100%|██████████| 178/178 [00:23<00:00,  7.67it/s, SmoothL1Loss=0.00615, MAE=4.94, RMSE=6.58, RegLoss=0]\n"
     ]
    }
   ],
   "source": [
    "n=NeuralProphet()\n",
    "model=n.fit(t, freq='D')"
   ]
  },
  {
   "cell_type": "code",
   "execution_count": 101,
   "id": "4b2e9dc9",
   "metadata": {},
   "outputs": [
    {
     "name": "stderr",
     "output_type": "stream",
     "text": [
      "INFO - (NP.df_utils._infer_frequency) - Major frequency D corresponds to 99.924% of the data.\n",
      "INFO - (NP.df_utils._infer_frequency) - Defined frequency is equal to major frequency - D\n",
      "INFO - (NP.df_utils._infer_frequency) - Major frequency D corresponds to 99.933% of the data.\n",
      "INFO - (NP.df_utils._infer_frequency) - Defined frequency is equal to major frequency - D\n",
      "INFO - (NP.df_utils._infer_frequency) - Major frequency D corresponds to 99.933% of the data.\n",
      "INFO - (NP.df_utils._infer_frequency) - Defined frequency is equal to major frequency - D\n",
      "WARNING - (py.warnings._showwarnmsg) - C:\\Users\\DELL\\anaconda3\\lib\\site-packages\\neuralprophet\\forecaster.py:1406: FutureWarning: The frame.append method is deprecated and will be removed from pandas in a future version. Use pandas.concat instead.\n",
      "  df = df.append(df_end_to_append)\n",
      "\n"
     ]
    },
    {
     "data": {
      "text/html": [
       "<div>\n",
       "<style scoped>\n",
       "    .dataframe tbody tr th:only-of-type {\n",
       "        vertical-align: middle;\n",
       "    }\n",
       "\n",
       "    .dataframe tbody tr th {\n",
       "        vertical-align: top;\n",
       "    }\n",
       "\n",
       "    .dataframe thead th {\n",
       "        text-align: right;\n",
       "    }\n",
       "</style>\n",
       "<table border=\"1\" class=\"dataframe\">\n",
       "  <thead>\n",
       "    <tr style=\"text-align: right;\">\n",
       "      <th></th>\n",
       "      <th>ds</th>\n",
       "      <th>y</th>\n",
       "      <th>yhat1</th>\n",
       "      <th>residual1</th>\n",
       "      <th>trend</th>\n",
       "      <th>season_yearly</th>\n",
       "      <th>season_weekly</th>\n",
       "    </tr>\n",
       "  </thead>\n",
       "  <tbody>\n",
       "    <tr>\n",
       "      <th>1495</th>\n",
       "      <td>2021-09-04</td>\n",
       "      <td>None</td>\n",
       "      <td>78.639763</td>\n",
       "      <td>NaN</td>\n",
       "      <td>67.002045</td>\n",
       "      <td>12.032278</td>\n",
       "      <td>-0.394559</td>\n",
       "    </tr>\n",
       "    <tr>\n",
       "      <th>1496</th>\n",
       "      <td>2021-09-05</td>\n",
       "      <td>None</td>\n",
       "      <td>78.390656</td>\n",
       "      <td>NaN</td>\n",
       "      <td>66.997986</td>\n",
       "      <td>11.818533</td>\n",
       "      <td>-0.425863</td>\n",
       "    </tr>\n",
       "    <tr>\n",
       "      <th>1497</th>\n",
       "      <td>2021-09-06</td>\n",
       "      <td>None</td>\n",
       "      <td>78.677780</td>\n",
       "      <td>NaN</td>\n",
       "      <td>66.993919</td>\n",
       "      <td>11.606833</td>\n",
       "      <td>0.077023</td>\n",
       "    </tr>\n",
       "    <tr>\n",
       "      <th>1498</th>\n",
       "      <td>2021-09-07</td>\n",
       "      <td>None</td>\n",
       "      <td>78.769302</td>\n",
       "      <td>NaN</td>\n",
       "      <td>66.989853</td>\n",
       "      <td>11.397786</td>\n",
       "      <td>0.381662</td>\n",
       "    </tr>\n",
       "    <tr>\n",
       "      <th>1499</th>\n",
       "      <td>2021-09-08</td>\n",
       "      <td>None</td>\n",
       "      <td>78.414032</td>\n",
       "      <td>NaN</td>\n",
       "      <td>66.985794</td>\n",
       "      <td>11.191937</td>\n",
       "      <td>0.236306</td>\n",
       "    </tr>\n",
       "  </tbody>\n",
       "</table>\n",
       "</div>"
      ],
      "text/plain": [
       "             ds     y      yhat1 residual1      trend  season_yearly  \\\n",
       "1495 2021-09-04  None  78.639763       NaN  67.002045      12.032278   \n",
       "1496 2021-09-05  None  78.390656       NaN  66.997986      11.818533   \n",
       "1497 2021-09-06  None  78.677780       NaN  66.993919      11.606833   \n",
       "1498 2021-09-07  None  78.769302       NaN  66.989853      11.397786   \n",
       "1499 2021-09-08  None  78.414032       NaN  66.985794      11.191937   \n",
       "\n",
       "      season_weekly  \n",
       "1495      -0.394559  \n",
       "1496      -0.425863  \n",
       "1497       0.077023  \n",
       "1498       0.381662  \n",
       "1499       0.236306  "
      ]
     },
     "execution_count": 101,
     "metadata": {},
     "output_type": "execute_result"
    }
   ],
   "source": [
    "o=n.make_future_dataframe(t, periods=1500)\n",
    "j=n.predict(o)\n",
    "j.tail()"
   ]
  },
  {
   "cell_type": "code",
   "execution_count": 102,
   "id": "c33b7323",
   "metadata": {},
   "outputs": [
    {
     "data": {
      "image/png": "[encoded data removed]",
      "text/plain": [
       "<Figure size 720x432 with 1 Axes>"
      ]
     },
     "metadata": {},
     "output_type": "display_data"
    }
   ],
   "source": [
    "i=n.plot(j)"
   ]
  },
  {
   "cell_type": "code",
   "execution_count": null,
   "id": "5b60a823",
   "metadata": {},
   "outputs": [],
   "source": []
  },
  {
   "cell_type": "markdown",
   "id": "0d659404",
   "metadata": {},
   "source": [
    "THIS SECOND BATCH WOULD DEPICT THE FORECASTING OF EITHER RAINFALL, THUNDERSTORM, OR BOTH USING THE NEURAL PROPHET MODEL"
   ]
  },
  {
   "cell_type": "code",
   "execution_count": null,
   "id": "436a6134",
   "metadata": {},
   "outputs": [],
   "source": []
  },
  {
   "cell_type": "code",
   "execution_count": 71,
   "id": "15a8dabd",
   "metadata": {},
   "outputs": [
    {
     "name": "stdout",
     "output_type": "stream",
     "text": [
      "           Date PrecipitationSumInches\n",
      "0    2013-12-21                   0.46\n",
      "1    2013-12-22                      0\n",
      "2    2013-12-23                      0\n",
      "3    2013-12-24                      0\n",
      "4    2013-12-25                      T\n",
      "...         ...                    ...\n",
      "1314 2017-07-27                      0\n",
      "1315 2017-07-28                      0\n",
      "1316 2017-07-29                      0\n",
      "1317 2017-07-30                      0\n",
      "1318 2017-07-31                      0\n",
      "\n",
      "[1319 rows x 2 columns]\n"
     ]
    }
   ],
   "source": [
    "k=s[['Date', 'PrecipitationSumInches']]\n",
    "print(k)"
   ]
  },
  {
   "cell_type": "code",
   "execution_count": 72,
   "id": "d5d92029",
   "metadata": {},
   "outputs": [
    {
     "name": "stderr",
     "output_type": "stream",
     "text": [
      "WARNING - (py.warnings._showwarnmsg) - C:\\Users\\DELL\\AppData\\Local\\Temp\\ipykernel_5140\\2264787645.py:1: SettingWithCopyWarning: \n",
      "A value is trying to be set on a copy of a slice from a DataFrame.\n",
      "Try using .loc[row_indexer,col_indexer] = value instead\n",
      "\n",
      "See the caveats in the documentation: https://pandas.pydata.org/pandas-docs/stable/user_guide/indexing.html#returning-a-view-versus-a-copy\n",
      "  k['PrecipitationSumInches']=k['PrecipitationSumInches'].replace(['T'], [0])\n",
      "\n"
     ]
    },
    {
     "name": "stdout",
     "output_type": "stream",
     "text": [
      "           Date PrecipitationSumInches\n",
      "0    2013-12-21                   0.46\n",
      "1    2013-12-22                      0\n",
      "2    2013-12-23                      0\n",
      "3    2013-12-24                      0\n",
      "4    2013-12-25                      0\n",
      "...         ...                    ...\n",
      "1314 2017-07-27                      0\n",
      "1315 2017-07-28                      0\n",
      "1316 2017-07-29                      0\n",
      "1317 2017-07-30                      0\n",
      "1318 2017-07-31                      0\n",
      "\n",
      "[1319 rows x 2 columns]\n"
     ]
    }
   ],
   "source": [
    "k['PrecipitationSumInches']=k['PrecipitationSumInches'].replace(['T'], [0])\n",
    "print(k)"
   ]
  },
  {
   "cell_type": "code",
   "execution_count": 73,
   "id": "ac0c703e",
   "metadata": {},
   "outputs": [],
   "source": [
    "k.columns=['ds', 'y']"
   ]
  },
  {
   "cell_type": "code",
   "execution_count": 74,
   "id": "51d301e5",
   "metadata": {},
   "outputs": [
    {
     "name": "stderr",
     "output_type": "stream",
     "text": [
      "INFO - (NP.df_utils._infer_frequency) - Major frequency D corresponds to 99.924% of the data.\n",
      "INFO - (NP.df_utils._infer_frequency) - Defined frequency is equal to major frequency - D\n",
      "INFO - (NP.config.init_data_params) - Setting normalization to global as only one dataframe provided for training.\n",
      "INFO - (NP.utils.set_auto_seasonalities) - Disabling daily seasonality. Run NeuralProphet with daily_seasonality=True to override this.\n",
      "INFO - (NP.config.set_auto_batch_epoch) - Auto-set batch_size to 32\n",
      "INFO - (NP.config.set_auto_batch_epoch) - Auto-set epochs to 178\n"
     ]
    },
    {
     "data": {
      "application/vnd.jupyter.widget-view+json": {
       "model_id": "fbf50e84b37e46b0a02ec99eb4c1412e",
       "version_major": 2,
       "version_minor": 0
      },
      "text/plain": [
       "  0%|          | 0/128 [00:00<?, ?it/s]"
      ]
     },
     "metadata": {},
     "output_type": "display_data"
    },
    {
     "name": "stderr",
     "output_type": "stream",
     "text": [
      "INFO - (NP.utils_torch.lr_range_test) - lr-range-test results: steep: 1.24E-01, min: 1.69E+00\n"
     ]
    },
    {
     "data": {
      "application/vnd.jupyter.widget-view+json": {
       "model_id": "b5fdbad01cd1465386f101f5e50aab9f",
       "version_major": 2,
       "version_minor": 0
      },
      "text/plain": [
       "  0%|          | 0/128 [00:00<?, ?it/s]"
      ]
     },
     "metadata": {},
     "output_type": "display_data"
    },
    {
     "name": "stderr",
     "output_type": "stream",
     "text": [
      "INFO - (NP.utils_torch.lr_range_test) - lr-range-test results: steep: 1.24E-01, min: 1.44E+00\n",
      "INFO - (NP.forecaster._init_train_loader) - lr-range-test selected learning rate: 1.16E-01\n",
      "Epoch[178/178]: 100%|█████████| 178/178 [00:23<00:00,  7.61it/s, SmoothL1Loss=0.0908, MAE=0.154, RMSE=0.367, RegLoss=0]\n"
     ]
    }
   ],
   "source": [
    "n=NeuralProphet()\n",
    "model=n.fit(k, freq='D')"
   ]
  },
  {
   "cell_type": "code",
   "execution_count": 76,
   "id": "8b66a6e1",
   "metadata": {},
   "outputs": [
    {
     "name": "stderr",
     "output_type": "stream",
     "text": [
      "INFO - (NP.df_utils._infer_frequency) - Major frequency D corresponds to 99.924% of the data.\n",
      "INFO - (NP.df_utils._infer_frequency) - Defined frequency is equal to major frequency - D\n",
      "INFO - (NP.df_utils._infer_frequency) - Major frequency D corresponds to 93.333% of the data.\n",
      "INFO - (NP.df_utils._infer_frequency) - Defined frequency is equal to major frequency - D\n",
      "INFO - (NP.df_utils._infer_frequency) - Major frequency D corresponds to 93.333% of the data.\n",
      "INFO - (NP.df_utils._infer_frequency) - Defined frequency is equal to major frequency - D\n",
      "WARNING - (py.warnings._showwarnmsg) - C:\\Users\\DELL\\anaconda3\\lib\\site-packages\\neuralprophet\\forecaster.py:1406: FutureWarning: The frame.append method is deprecated and will be removed from pandas in a future version. Use pandas.concat instead.\n",
      "  df = df.append(df_end_to_append)\n",
      "\n"
     ]
    },
    {
     "data": {
      "text/html": [
       "<div>\n",
       "<style scoped>\n",
       "    .dataframe tbody tr th:only-of-type {\n",
       "        vertical-align: middle;\n",
       "    }\n",
       "\n",
       "    .dataframe tbody tr th {\n",
       "        vertical-align: top;\n",
       "    }\n",
       "\n",
       "    .dataframe thead th {\n",
       "        text-align: right;\n",
       "    }\n",
       "</style>\n",
       "<table border=\"1\" class=\"dataframe\">\n",
       "  <thead>\n",
       "    <tr style=\"text-align: right;\">\n",
       "      <th></th>\n",
       "      <th>ds</th>\n",
       "      <th>y</th>\n",
       "      <th>yhat1</th>\n",
       "      <th>residual1</th>\n",
       "      <th>trend</th>\n",
       "      <th>season_yearly</th>\n",
       "      <th>season_weekly</th>\n",
       "    </tr>\n",
       "  </thead>\n",
       "  <tbody>\n",
       "    <tr>\n",
       "      <th>10</th>\n",
       "      <td>2017-08-11</td>\n",
       "      <td>None</td>\n",
       "      <td>0.014603</td>\n",
       "      <td>NaN</td>\n",
       "      <td>0.069696</td>\n",
       "      <td>-0.043513</td>\n",
       "      <td>-0.011580</td>\n",
       "    </tr>\n",
       "    <tr>\n",
       "      <th>11</th>\n",
       "      <td>2017-08-12</td>\n",
       "      <td>None</td>\n",
       "      <td>0.048646</td>\n",
       "      <td>NaN</td>\n",
       "      <td>0.069812</td>\n",
       "      <td>-0.041285</td>\n",
       "      <td>0.020119</td>\n",
       "    </tr>\n",
       "    <tr>\n",
       "      <th>12</th>\n",
       "      <td>2017-08-13</td>\n",
       "      <td>None</td>\n",
       "      <td>0.037820</td>\n",
       "      <td>NaN</td>\n",
       "      <td>0.069928</td>\n",
       "      <td>-0.039076</td>\n",
       "      <td>0.006969</td>\n",
       "    </tr>\n",
       "    <tr>\n",
       "      <th>13</th>\n",
       "      <td>2017-08-14</td>\n",
       "      <td>None</td>\n",
       "      <td>0.041315</td>\n",
       "      <td>NaN</td>\n",
       "      <td>0.070043</td>\n",
       "      <td>-0.036896</td>\n",
       "      <td>0.008168</td>\n",
       "    </tr>\n",
       "    <tr>\n",
       "      <th>14</th>\n",
       "      <td>2017-08-15</td>\n",
       "      <td>None</td>\n",
       "      <td>0.040012</td>\n",
       "      <td>NaN</td>\n",
       "      <td>0.070159</td>\n",
       "      <td>-0.034757</td>\n",
       "      <td>0.004610</td>\n",
       "    </tr>\n",
       "  </tbody>\n",
       "</table>\n",
       "</div>"
      ],
      "text/plain": [
       "           ds     y     yhat1 residual1     trend  season_yearly  \\\n",
       "10 2017-08-11  None  0.014603       NaN  0.069696      -0.043513   \n",
       "11 2017-08-12  None  0.048646       NaN  0.069812      -0.041285   \n",
       "12 2017-08-13  None  0.037820       NaN  0.069928      -0.039076   \n",
       "13 2017-08-14  None  0.041315       NaN  0.070043      -0.036896   \n",
       "14 2017-08-15  None  0.040012       NaN  0.070159      -0.034757   \n",
       "\n",
       "    season_weekly  \n",
       "10      -0.011580  \n",
       "11       0.020119  \n",
       "12       0.006969  \n",
       "13       0.008168  \n",
       "14       0.004610  "
      ]
     },
     "execution_count": 76,
     "metadata": {},
     "output_type": "execute_result"
    }
   ],
   "source": [
    "o=n.make_future_dataframe(k, periods=15)\n",
    "j=n.predict(o)\n",
    "j.tail()"
   ]
  },
  {
   "cell_type": "code",
   "execution_count": 77,
   "id": "b4f2c511",
   "metadata": {},
   "outputs": [
    {
     "data": {
      "image/png": "[encoded data removed]",
      "text/plain": [
       "<Figure size 720x432 with 1 Axes>"
      ]
     },
     "metadata": {},
     "output_type": "display_data"
    }
   ],
   "source": [
    "i=n.plot(j)"
   ]
  },
  {
   "cell_type": "code",
   "execution_count": null,
   "id": "92b2bef1",
   "metadata": {},
   "outputs": [],
   "source": []
  }
 ],
 "metadata": {
  "kernelspec": {
   "display_name": "Python 3 (ipykernel)",
   "language": "python",
   "name": "python3"
  },
  "language_info": {
   "codemirror_mode": {
    "name": "ipython",
    "version": 3
   },
   "file_extension": ".py",
   "mimetype": "text/x-python",
   "name": "python",
   "nbconvert_exporter": "python",
   "pygments_lexer": "ipython3",
   "version": "3.9.12"
  }
 },
 "nbformat": 4,
 "nbformat_minor": 5
}
